{
 "cells": [
  {
   "cell_type": "code",
   "execution_count": 1,
   "id": "63f122f6",
   "metadata": {
    "_cell_guid": "b1076dfc-b9ad-4769-8c92-a6c4dae69d19",
    "_uuid": "8f2839f25d086af736a60e9eeb907d3b93b6e0e5",
    "execution": {
     "iopub.execute_input": "2025-06-12T06:56:09.934857Z",
     "iopub.status.busy": "2025-06-12T06:56:09.933843Z",
     "iopub.status.idle": "2025-06-12T06:56:12.277412Z",
     "shell.execute_reply": "2025-06-12T06:56:12.276386Z"
    },
    "papermill": {
     "duration": 2.356574,
     "end_time": "2025-06-12T06:56:12.279335",
     "exception": false,
     "start_time": "2025-06-12T06:56:09.922761",
     "status": "completed"
    },
    "tags": []
   },
   "outputs": [
    {
     "name": "stdout",
     "output_type": "stream",
     "text": [
      "/kaggle/input/summer-analytics-mid-hackathon/hacktest.csv\n",
      "/kaggle/input/summer-analytics-mid-hackathon/hacktrain.csv\n"
     ]
    }
   ],
   "source": [
    "# This Python 3 environment comes with many helpful analytics libraries installed\n",
    "# It is defined by the kaggle/python Docker image: https://github.com/kaggle/docker-python\n",
    "# For example, here's several helpful packages to load\n",
    "\n",
    "import numpy as np # linear algebra\n",
    "import pandas as pd # data processing, CSV file I/O (e.g. pd.read_csv)\n",
    "\n",
    "# Input data files are available in the read-only \"../input/\" directory\n",
    "# For example, running this (by clicking run or pressing Shift+Enter) will list all files under the input directory\n",
    "\n",
    "import os\n",
    "for dirname, _, filenames in os.walk('/kaggle/input'):\n",
    "    for filename in filenames:\n",
    "        print(os.path.join(dirname, filename))\n",
    "\n",
    "# You can write up to 20GB to the current directory (/kaggle/working/) that gets preserved as output when you create a version using \"Save & Run All\" \n",
    "# You can also write temporary files to /kaggle/temp/, but they won't be saved outside of the current session"
   ]
  },
  {
   "cell_type": "code",
   "execution_count": 2,
   "id": "21290dee",
   "metadata": {
    "execution": {
     "iopub.execute_input": "2025-06-12T06:56:12.291861Z",
     "iopub.status.busy": "2025-06-12T06:56:12.291464Z",
     "iopub.status.idle": "2025-06-12T06:56:12.416621Z",
     "shell.execute_reply": "2025-06-12T06:56:12.415629Z"
    },
    "papermill": {
     "duration": 0.133325,
     "end_time": "2025-06-12T06:56:12.418514",
     "exception": false,
     "start_time": "2025-06-12T06:56:12.285189",
     "status": "completed"
    },
    "tags": []
   },
   "outputs": [
    {
     "name": "stderr",
     "output_type": "stream",
     "text": [
      "/usr/local/lib/python3.11/dist-packages/pandas/io/formats/format.py:1458: RuntimeWarning: invalid value encountered in greater\n",
      "  has_large_values = (abs_vals > 1e6).any()\n",
      "/usr/local/lib/python3.11/dist-packages/pandas/io/formats/format.py:1459: RuntimeWarning: invalid value encountered in less\n",
      "  has_small_values = ((abs_vals < 10 ** (-self.digits)) & (abs_vals > 0)).any()\n",
      "/usr/local/lib/python3.11/dist-packages/pandas/io/formats/format.py:1459: RuntimeWarning: invalid value encountered in greater\n",
      "  has_small_values = ((abs_vals < 10 ** (-self.digits)) & (abs_vals > 0)).any()\n",
      "/usr/local/lib/python3.11/dist-packages/pandas/io/formats/format.py:1458: RuntimeWarning: invalid value encountered in greater\n",
      "  has_large_values = (abs_vals > 1e6).any()\n",
      "/usr/local/lib/python3.11/dist-packages/pandas/io/formats/format.py:1459: RuntimeWarning: invalid value encountered in less\n",
      "  has_small_values = ((abs_vals < 10 ** (-self.digits)) & (abs_vals > 0)).any()\n",
      "/usr/local/lib/python3.11/dist-packages/pandas/io/formats/format.py:1459: RuntimeWarning: invalid value encountered in greater\n",
      "  has_small_values = ((abs_vals < 10 ** (-self.digits)) & (abs_vals > 0)).any()\n"
     ]
    },
    {
     "data": {
      "text/html": [
       "<div>\n",
       "<style scoped>\n",
       "    .dataframe tbody tr th:only-of-type {\n",
       "        vertical-align: middle;\n",
       "    }\n",
       "\n",
       "    .dataframe tbody tr th {\n",
       "        vertical-align: top;\n",
       "    }\n",
       "\n",
       "    .dataframe thead th {\n",
       "        text-align: right;\n",
       "    }\n",
       "</style>\n",
       "<table border=\"1\" class=\"dataframe\">\n",
       "  <thead>\n",
       "    <tr style=\"text-align: right;\">\n",
       "      <th></th>\n",
       "      <th>Unnamed: 0</th>\n",
       "      <th>ID</th>\n",
       "      <th>class</th>\n",
       "      <th>20150720_N</th>\n",
       "      <th>20150602_N</th>\n",
       "      <th>20150517_N</th>\n",
       "      <th>20150501_N</th>\n",
       "      <th>20150415_N</th>\n",
       "      <th>20150330_N</th>\n",
       "      <th>20150314_N</th>\n",
       "      <th>...</th>\n",
       "      <th>20140610_N</th>\n",
       "      <th>20140525_N</th>\n",
       "      <th>20140509_N</th>\n",
       "      <th>20140423_N</th>\n",
       "      <th>20140407_N</th>\n",
       "      <th>20140322_N</th>\n",
       "      <th>20140218_N</th>\n",
       "      <th>20140202_N</th>\n",
       "      <th>20140117_N</th>\n",
       "      <th>20140101_N</th>\n",
       "    </tr>\n",
       "  </thead>\n",
       "  <tbody>\n",
       "    <tr>\n",
       "      <th>0</th>\n",
       "      <td>0</td>\n",
       "      <td>1</td>\n",
       "      <td>water</td>\n",
       "      <td>637.5950</td>\n",
       "      <td>658.668</td>\n",
       "      <td>-1882.030</td>\n",
       "      <td>-1924.36</td>\n",
       "      <td>997.904</td>\n",
       "      <td>-1739.990</td>\n",
       "      <td>630.087</td>\n",
       "      <td>...</td>\n",
       "      <td>NaN</td>\n",
       "      <td>-1043.160</td>\n",
       "      <td>-1942.490</td>\n",
       "      <td>267.138</td>\n",
       "      <td>NaN</td>\n",
       "      <td>NaN</td>\n",
       "      <td>211.328</td>\n",
       "      <td>-2203.020</td>\n",
       "      <td>-1180.19</td>\n",
       "      <td>433.906</td>\n",
       "    </tr>\n",
       "    <tr>\n",
       "      <th>1</th>\n",
       "      <td>1</td>\n",
       "      <td>2</td>\n",
       "      <td>water</td>\n",
       "      <td>634.2400</td>\n",
       "      <td>593.705</td>\n",
       "      <td>-1625.790</td>\n",
       "      <td>-1672.32</td>\n",
       "      <td>914.198</td>\n",
       "      <td>-692.386</td>\n",
       "      <td>707.626</td>\n",
       "      <td>...</td>\n",
       "      <td>NaN</td>\n",
       "      <td>-933.934</td>\n",
       "      <td>-625.385</td>\n",
       "      <td>120.059</td>\n",
       "      <td>364.858</td>\n",
       "      <td>476.972</td>\n",
       "      <td>220.878</td>\n",
       "      <td>-2250.000</td>\n",
       "      <td>-1360.56</td>\n",
       "      <td>524.075</td>\n",
       "    </tr>\n",
       "    <tr>\n",
       "      <th>2</th>\n",
       "      <td>3</td>\n",
       "      <td>4</td>\n",
       "      <td>water</td>\n",
       "      <td>58.0174</td>\n",
       "      <td>-1599.160</td>\n",
       "      <td>NaN</td>\n",
       "      <td>-1052.63</td>\n",
       "      <td>NaN</td>\n",
       "      <td>-1564.630</td>\n",
       "      <td>NaN</td>\n",
       "      <td>...</td>\n",
       "      <td>-1025.88</td>\n",
       "      <td>368.622</td>\n",
       "      <td>NaN</td>\n",
       "      <td>-1227.800</td>\n",
       "      <td>304.621</td>\n",
       "      <td>NaN</td>\n",
       "      <td>369.214</td>\n",
       "      <td>-2202.120</td>\n",
       "      <td>NaN</td>\n",
       "      <td>-1343.550</td>\n",
       "    </tr>\n",
       "    <tr>\n",
       "      <th>3</th>\n",
       "      <td>4</td>\n",
       "      <td>5</td>\n",
       "      <td>water</td>\n",
       "      <td>72.5180</td>\n",
       "      <td>NaN</td>\n",
       "      <td>380.436</td>\n",
       "      <td>-1256.93</td>\n",
       "      <td>515.805</td>\n",
       "      <td>-1413.180</td>\n",
       "      <td>-802.942</td>\n",
       "      <td>...</td>\n",
       "      <td>-1813.95</td>\n",
       "      <td>155.624</td>\n",
       "      <td>NaN</td>\n",
       "      <td>-924.073</td>\n",
       "      <td>432.150</td>\n",
       "      <td>282.833</td>\n",
       "      <td>298.320</td>\n",
       "      <td>-2197.360</td>\n",
       "      <td>NaN</td>\n",
       "      <td>-826.727</td>\n",
       "    </tr>\n",
       "    <tr>\n",
       "      <th>4</th>\n",
       "      <td>7</td>\n",
       "      <td>8</td>\n",
       "      <td>water</td>\n",
       "      <td>1136.4400</td>\n",
       "      <td>NaN</td>\n",
       "      <td>NaN</td>\n",
       "      <td>1647.83</td>\n",
       "      <td>1935.800</td>\n",
       "      <td>NaN</td>\n",
       "      <td>2158.980</td>\n",
       "      <td>...</td>\n",
       "      <td>1535.00</td>\n",
       "      <td>1959.430</td>\n",
       "      <td>-279.317</td>\n",
       "      <td>-384.915</td>\n",
       "      <td>-113.406</td>\n",
       "      <td>1020.720</td>\n",
       "      <td>1660.650</td>\n",
       "      <td>-116.801</td>\n",
       "      <td>-568.05</td>\n",
       "      <td>-1357.140</td>\n",
       "    </tr>\n",
       "  </tbody>\n",
       "</table>\n",
       "<p>5 rows × 30 columns</p>\n",
       "</div>"
      ],
      "text/plain": [
       "   Unnamed: 0  ID  class  20150720_N  20150602_N  20150517_N  20150501_N  \\\n",
       "0           0   1  water    637.5950     658.668   -1882.030    -1924.36   \n",
       "1           1   2  water    634.2400     593.705   -1625.790    -1672.32   \n",
       "2           3   4  water     58.0174   -1599.160         NaN    -1052.63   \n",
       "3           4   5  water     72.5180         NaN     380.436    -1256.93   \n",
       "4           7   8  water   1136.4400         NaN         NaN     1647.83   \n",
       "\n",
       "   20150415_N  20150330_N  20150314_N  ...  20140610_N  20140525_N  \\\n",
       "0     997.904   -1739.990     630.087  ...         NaN   -1043.160   \n",
       "1     914.198    -692.386     707.626  ...         NaN    -933.934   \n",
       "2         NaN   -1564.630         NaN  ...    -1025.88     368.622   \n",
       "3     515.805   -1413.180    -802.942  ...    -1813.95     155.624   \n",
       "4    1935.800         NaN    2158.980  ...     1535.00    1959.430   \n",
       "\n",
       "   20140509_N  20140423_N  20140407_N  20140322_N  20140218_N  20140202_N  \\\n",
       "0   -1942.490     267.138         NaN         NaN     211.328   -2203.020   \n",
       "1    -625.385     120.059     364.858     476.972     220.878   -2250.000   \n",
       "2         NaN   -1227.800     304.621         NaN     369.214   -2202.120   \n",
       "3         NaN    -924.073     432.150     282.833     298.320   -2197.360   \n",
       "4    -279.317    -384.915    -113.406    1020.720    1660.650    -116.801   \n",
       "\n",
       "   20140117_N  20140101_N  \n",
       "0    -1180.19     433.906  \n",
       "1    -1360.56     524.075  \n",
       "2         NaN   -1343.550  \n",
       "3         NaN    -826.727  \n",
       "4     -568.05   -1357.140  \n",
       "\n",
       "[5 rows x 30 columns]"
      ]
     },
     "execution_count": 2,
     "metadata": {},
     "output_type": "execute_result"
    }
   ],
   "source": [
    "df=pd.read_csv('/kaggle/input/summer-analytics-mid-hackathon/hacktrain.csv')\n",
    "df.head()"
   ]
  },
  {
   "cell_type": "code",
   "execution_count": 3,
   "id": "1dc3f199",
   "metadata": {
    "execution": {
     "iopub.execute_input": "2025-06-12T06:56:12.434344Z",
     "iopub.status.busy": "2025-06-12T06:56:12.433993Z",
     "iopub.status.idle": "2025-06-12T06:56:12.440416Z",
     "shell.execute_reply": "2025-06-12T06:56:12.439460Z"
    },
    "papermill": {
     "duration": 0.015881,
     "end_time": "2025-06-12T06:56:12.442167",
     "exception": false,
     "start_time": "2025-06-12T06:56:12.426286",
     "status": "completed"
    },
    "tags": []
   },
   "outputs": [
    {
     "data": {
      "text/plain": [
       "(8000, 30)"
      ]
     },
     "execution_count": 3,
     "metadata": {},
     "output_type": "execute_result"
    }
   ],
   "source": [
    "df.shape"
   ]
  },
  {
   "cell_type": "code",
   "execution_count": 4,
   "id": "cfe0ef76",
   "metadata": {
    "execution": {
     "iopub.execute_input": "2025-06-12T06:56:12.463693Z",
     "iopub.status.busy": "2025-06-12T06:56:12.462942Z",
     "iopub.status.idle": "2025-06-12T06:56:12.477843Z",
     "shell.execute_reply": "2025-06-12T06:56:12.477050Z"
    },
    "papermill": {
     "duration": 0.025744,
     "end_time": "2025-06-12T06:56:12.479510",
     "exception": false,
     "start_time": "2025-06-12T06:56:12.453766",
     "status": "completed"
    },
    "tags": []
   },
   "outputs": [
    {
     "data": {
      "text/plain": [
       "Unnamed: 0       0\n",
       "ID               0\n",
       "class            0\n",
       "20150720_N     560\n",
       "20150602_N    1200\n",
       "20150517_N     800\n",
       "20150501_N     960\n",
       "20150415_N     480\n",
       "20150330_N    1120\n",
       "20150314_N     720\n",
       "20150226_N    1360\n",
       "20150210_N     640\n",
       "20150125_N    1040\n",
       "20150109_N     880\n",
       "20141117_N    1280\n",
       "20141101_N     400\n",
       "20141016_N    1440\n",
       "20140930_N     800\n",
       "20140813_N     560\n",
       "20140626_N    1600\n",
       "20140610_N     480\n",
       "20140525_N     720\n",
       "20140509_N     880\n",
       "20140423_N    1760\n",
       "20140407_N     640\n",
       "20140322_N    1120\n",
       "20140218_N    1440\n",
       "20140202_N     560\n",
       "20140117_N    1200\n",
       "20140101_N     400\n",
       "dtype: int64"
      ]
     },
     "execution_count": 4,
     "metadata": {},
     "output_type": "execute_result"
    }
   ],
   "source": [
    "df.isnull().sum()"
   ]
  },
  {
   "cell_type": "code",
   "execution_count": 5,
   "id": "36e971d5",
   "metadata": {
    "execution": {
     "iopub.execute_input": "2025-06-12T06:56:12.493302Z",
     "iopub.status.busy": "2025-06-12T06:56:12.492940Z",
     "iopub.status.idle": "2025-06-12T06:56:12.518209Z",
     "shell.execute_reply": "2025-06-12T06:56:12.516975Z"
    },
    "papermill": {
     "duration": 0.0362,
     "end_time": "2025-06-12T06:56:12.522200",
     "exception": false,
     "start_time": "2025-06-12T06:56:12.486000",
     "status": "completed"
    },
    "tags": []
   },
   "outputs": [],
   "source": [
    "df.fillna(df.mean(numeric_only=True),inplace=True)"
   ]
  },
  {
   "cell_type": "code",
   "execution_count": 6,
   "id": "849b7bed",
   "metadata": {
    "execution": {
     "iopub.execute_input": "2025-06-12T06:56:12.541752Z",
     "iopub.status.busy": "2025-06-12T06:56:12.541344Z",
     "iopub.status.idle": "2025-06-12T06:56:12.555946Z",
     "shell.execute_reply": "2025-06-12T06:56:12.554500Z"
    },
    "papermill": {
     "duration": 0.025114,
     "end_time": "2025-06-12T06:56:12.558441",
     "exception": false,
     "start_time": "2025-06-12T06:56:12.533327",
     "status": "completed"
    },
    "tags": []
   },
   "outputs": [
    {
     "data": {
      "text/plain": [
       "Unnamed: 0    0\n",
       "ID            0\n",
       "class         0\n",
       "20150720_N    0\n",
       "20150602_N    0\n",
       "20150517_N    0\n",
       "20150501_N    0\n",
       "20150415_N    0\n",
       "20150330_N    0\n",
       "20150314_N    0\n",
       "20150226_N    0\n",
       "20150210_N    0\n",
       "20150125_N    0\n",
       "20150109_N    0\n",
       "20141117_N    0\n",
       "20141101_N    0\n",
       "20141016_N    0\n",
       "20140930_N    0\n",
       "20140813_N    0\n",
       "20140626_N    0\n",
       "20140610_N    0\n",
       "20140525_N    0\n",
       "20140509_N    0\n",
       "20140423_N    0\n",
       "20140407_N    0\n",
       "20140322_N    0\n",
       "20140218_N    0\n",
       "20140202_N    0\n",
       "20140117_N    0\n",
       "20140101_N    0\n",
       "dtype: int64"
      ]
     },
     "execution_count": 6,
     "metadata": {},
     "output_type": "execute_result"
    }
   ],
   "source": [
    "df.isnull().sum()"
   ]
  },
  {
   "cell_type": "code",
   "execution_count": 7,
   "id": "75e65f2e",
   "metadata": {
    "execution": {
     "iopub.execute_input": "2025-06-12T06:56:12.583976Z",
     "iopub.status.busy": "2025-06-12T06:56:12.583314Z",
     "iopub.status.idle": "2025-06-12T06:56:14.679833Z",
     "shell.execute_reply": "2025-06-12T06:56:14.678532Z"
    },
    "papermill": {
     "duration": 2.110508,
     "end_time": "2025-06-12T06:56:14.681992",
     "exception": false,
     "start_time": "2025-06-12T06:56:12.571484",
     "status": "completed"
    },
    "tags": []
   },
   "outputs": [],
   "source": [
    "from sklearn.preprocessing import LabelEncoder\n",
    "from sklearn.linear_model import LogisticRegression\n",
    "from sklearn.model_selection import train_test_split\n",
    "from sklearn.metrics import classification_report"
   ]
  },
  {
   "cell_type": "code",
   "execution_count": 8,
   "id": "c35fb08a",
   "metadata": {
    "execution": {
     "iopub.execute_input": "2025-06-12T06:56:14.696333Z",
     "iopub.status.busy": "2025-06-12T06:56:14.695696Z",
     "iopub.status.idle": "2025-06-12T06:56:14.720024Z",
     "shell.execute_reply": "2025-06-12T06:56:14.719017Z"
    },
    "papermill": {
     "duration": 0.033281,
     "end_time": "2025-06-12T06:56:14.721702",
     "exception": false,
     "start_time": "2025-06-12T06:56:14.688421",
     "status": "completed"
    },
    "tags": []
   },
   "outputs": [
    {
     "data": {
      "text/html": [
       "<div>\n",
       "<style scoped>\n",
       "    .dataframe tbody tr th:only-of-type {\n",
       "        vertical-align: middle;\n",
       "    }\n",
       "\n",
       "    .dataframe tbody tr th {\n",
       "        vertical-align: top;\n",
       "    }\n",
       "\n",
       "    .dataframe thead th {\n",
       "        text-align: right;\n",
       "    }\n",
       "</style>\n",
       "<table border=\"1\" class=\"dataframe\">\n",
       "  <thead>\n",
       "    <tr style=\"text-align: right;\">\n",
       "      <th></th>\n",
       "      <th>Unnamed: 0</th>\n",
       "      <th>ID</th>\n",
       "      <th>class</th>\n",
       "      <th>20150720_N</th>\n",
       "      <th>20150602_N</th>\n",
       "      <th>20150517_N</th>\n",
       "      <th>20150501_N</th>\n",
       "      <th>20150415_N</th>\n",
       "      <th>20150330_N</th>\n",
       "      <th>20150314_N</th>\n",
       "      <th>...</th>\n",
       "      <th>20140610_N</th>\n",
       "      <th>20140525_N</th>\n",
       "      <th>20140509_N</th>\n",
       "      <th>20140423_N</th>\n",
       "      <th>20140407_N</th>\n",
       "      <th>20140322_N</th>\n",
       "      <th>20140218_N</th>\n",
       "      <th>20140202_N</th>\n",
       "      <th>20140117_N</th>\n",
       "      <th>20140101_N</th>\n",
       "    </tr>\n",
       "  </thead>\n",
       "  <tbody>\n",
       "    <tr>\n",
       "      <th>0</th>\n",
       "      <td>0</td>\n",
       "      <td>1</td>\n",
       "      <td>water</td>\n",
       "      <td>637.595</td>\n",
       "      <td>658.668</td>\n",
       "      <td>-1882.03</td>\n",
       "      <td>-1924.36</td>\n",
       "      <td>997.904</td>\n",
       "      <td>-1739.99</td>\n",
       "      <td>630.087</td>\n",
       "      <td>...</td>\n",
       "      <td>4872.68167</td>\n",
       "      <td>-1043.16</td>\n",
       "      <td>-1942.49</td>\n",
       "      <td>267.138</td>\n",
       "      <td>2041.316792</td>\n",
       "      <td>2799.820342</td>\n",
       "      <td>211.328</td>\n",
       "      <td>-2203.02</td>\n",
       "      <td>-1180.19</td>\n",
       "      <td>433.906</td>\n",
       "    </tr>\n",
       "  </tbody>\n",
       "</table>\n",
       "<p>1 rows × 30 columns</p>\n",
       "</div>"
      ],
      "text/plain": [
       "   Unnamed: 0  ID  class  20150720_N  20150602_N  20150517_N  20150501_N  \\\n",
       "0           0   1  water     637.595     658.668    -1882.03    -1924.36   \n",
       "\n",
       "   20150415_N  20150330_N  20150314_N  ...  20140610_N  20140525_N  \\\n",
       "0     997.904    -1739.99     630.087  ...  4872.68167    -1043.16   \n",
       "\n",
       "   20140509_N  20140423_N   20140407_N   20140322_N  20140218_N  20140202_N  \\\n",
       "0    -1942.49     267.138  2041.316792  2799.820342     211.328    -2203.02   \n",
       "\n",
       "   20140117_N  20140101_N  \n",
       "0    -1180.19     433.906  \n",
       "\n",
       "[1 rows x 30 columns]"
      ]
     },
     "execution_count": 8,
     "metadata": {},
     "output_type": "execute_result"
    }
   ],
   "source": [
    "df.head(1)"
   ]
  },
  {
   "cell_type": "code",
   "execution_count": 9,
   "id": "c8739ddf",
   "metadata": {
    "execution": {
     "iopub.execute_input": "2025-06-12T06:56:14.736550Z",
     "iopub.status.busy": "2025-06-12T06:56:14.736248Z",
     "iopub.status.idle": "2025-06-12T06:56:14.750050Z",
     "shell.execute_reply": "2025-06-12T06:56:14.748958Z"
    },
    "papermill": {
     "duration": 0.023841,
     "end_time": "2025-06-12T06:56:14.751937",
     "exception": false,
     "start_time": "2025-06-12T06:56:14.728096",
     "status": "completed"
    },
    "tags": []
   },
   "outputs": [],
   "source": [
    "df.drop(columns=['ID'], inplace=True)\n",
    "X=df.drop(columns=['class'])\n",
    "y=df['class']\n"
   ]
  },
  {
   "cell_type": "code",
   "execution_count": 10,
   "id": "edd3363c",
   "metadata": {
    "execution": {
     "iopub.execute_input": "2025-06-12T06:56:14.766056Z",
     "iopub.status.busy": "2025-06-12T06:56:14.765676Z",
     "iopub.status.idle": "2025-06-12T06:56:14.771154Z",
     "shell.execute_reply": "2025-06-12T06:56:14.769360Z"
    },
    "papermill": {
     "duration": 0.014525,
     "end_time": "2025-06-12T06:56:14.773116",
     "exception": false,
     "start_time": "2025-06-12T06:56:14.758591",
     "status": "completed"
    },
    "tags": []
   },
   "outputs": [],
   "source": [
    "le=LabelEncoder()"
   ]
  },
  {
   "cell_type": "code",
   "execution_count": 11,
   "id": "452adbc2",
   "metadata": {
    "execution": {
     "iopub.execute_input": "2025-06-12T06:56:14.787448Z",
     "iopub.status.busy": "2025-06-12T06:56:14.786824Z",
     "iopub.status.idle": "2025-06-12T06:56:14.793855Z",
     "shell.execute_reply": "2025-06-12T06:56:14.792895Z"
    },
    "papermill": {
     "duration": 0.015699,
     "end_time": "2025-06-12T06:56:14.795482",
     "exception": false,
     "start_time": "2025-06-12T06:56:14.779783",
     "status": "completed"
    },
    "tags": []
   },
   "outputs": [],
   "source": [
    "y=le.fit_transform(y)"
   ]
  },
  {
   "cell_type": "code",
   "execution_count": 12,
   "id": "758c9ac8",
   "metadata": {
    "execution": {
     "iopub.execute_input": "2025-06-12T06:56:14.809840Z",
     "iopub.status.busy": "2025-06-12T06:56:14.809528Z",
     "iopub.status.idle": "2025-06-12T06:56:14.820677Z",
     "shell.execute_reply": "2025-06-12T06:56:14.819346Z"
    },
    "papermill": {
     "duration": 0.020058,
     "end_time": "2025-06-12T06:56:14.822358",
     "exception": false,
     "start_time": "2025-06-12T06:56:14.802300",
     "status": "completed"
    },
    "tags": []
   },
   "outputs": [],
   "source": [
    "#train-test-split\n",
    "X_train,X_test,y_train,y_test=train_test_split(X,y,test_size=0.2,random_state=42)"
   ]
  },
  {
   "cell_type": "code",
   "execution_count": 13,
   "id": "6cde0357",
   "metadata": {
    "execution": {
     "iopub.execute_input": "2025-06-12T06:56:14.836198Z",
     "iopub.status.busy": "2025-06-12T06:56:14.835374Z",
     "iopub.status.idle": "2025-06-12T06:56:14.841745Z",
     "shell.execute_reply": "2025-06-12T06:56:14.840737Z"
    },
    "papermill": {
     "duration": 0.015072,
     "end_time": "2025-06-12T06:56:14.843582",
     "exception": false,
     "start_time": "2025-06-12T06:56:14.828510",
     "status": "completed"
    },
    "tags": []
   },
   "outputs": [
    {
     "data": {
      "text/plain": [
       "(6400, 28)"
      ]
     },
     "execution_count": 13,
     "metadata": {},
     "output_type": "execute_result"
    }
   ],
   "source": [
    "X_train.shape"
   ]
  },
  {
   "cell_type": "code",
   "execution_count": 14,
   "id": "1121056f",
   "metadata": {
    "execution": {
     "iopub.execute_input": "2025-06-12T06:56:14.858098Z",
     "iopub.status.busy": "2025-06-12T06:56:14.857683Z",
     "iopub.status.idle": "2025-06-12T06:56:14.864072Z",
     "shell.execute_reply": "2025-06-12T06:56:14.862994Z"
    },
    "papermill": {
     "duration": 0.01516,
     "end_time": "2025-06-12T06:56:14.865653",
     "exception": false,
     "start_time": "2025-06-12T06:56:14.850493",
     "status": "completed"
    },
    "tags": []
   },
   "outputs": [
    {
     "data": {
      "text/plain": [
       "(1600, 28)"
      ]
     },
     "execution_count": 14,
     "metadata": {},
     "output_type": "execute_result"
    }
   ],
   "source": [
    "X_test.shape"
   ]
  },
  {
   "cell_type": "code",
   "execution_count": 15,
   "id": "03f36595",
   "metadata": {
    "execution": {
     "iopub.execute_input": "2025-06-12T06:56:14.879964Z",
     "iopub.status.busy": "2025-06-12T06:56:14.879660Z",
     "iopub.status.idle": "2025-06-12T06:56:14.884678Z",
     "shell.execute_reply": "2025-06-12T06:56:14.883704Z"
    },
    "papermill": {
     "duration": 0.014025,
     "end_time": "2025-06-12T06:56:14.886372",
     "exception": false,
     "start_time": "2025-06-12T06:56:14.872347",
     "status": "completed"
    },
    "tags": []
   },
   "outputs": [],
   "source": [
    "lor=LogisticRegression(multi_class='multinomial',solver='saga',max_iter=500)"
   ]
  },
  {
   "cell_type": "code",
   "execution_count": 16,
   "id": "bd4ee16d",
   "metadata": {
    "execution": {
     "iopub.execute_input": "2025-06-12T06:56:14.900072Z",
     "iopub.status.busy": "2025-06-12T06:56:14.899746Z",
     "iopub.status.idle": "2025-06-12T06:56:17.055003Z",
     "shell.execute_reply": "2025-06-12T06:56:17.053640Z"
    },
    "papermill": {
     "duration": 2.164813,
     "end_time": "2025-06-12T06:56:17.057427",
     "exception": false,
     "start_time": "2025-06-12T06:56:14.892614",
     "status": "completed"
    },
    "tags": []
   },
   "outputs": [
    {
     "data": {
      "text/html": [
       "<style>#sk-container-id-1 {color: black;background-color: white;}#sk-container-id-1 pre{padding: 0;}#sk-container-id-1 div.sk-toggleable {background-color: white;}#sk-container-id-1 label.sk-toggleable__label {cursor: pointer;display: block;width: 100%;margin-bottom: 0;padding: 0.3em;box-sizing: border-box;text-align: center;}#sk-container-id-1 label.sk-toggleable__label-arrow:before {content: \"▸\";float: left;margin-right: 0.25em;color: #696969;}#sk-container-id-1 label.sk-toggleable__label-arrow:hover:before {color: black;}#sk-container-id-1 div.sk-estimator:hover label.sk-toggleable__label-arrow:before {color: black;}#sk-container-id-1 div.sk-toggleable__content {max-height: 0;max-width: 0;overflow: hidden;text-align: left;background-color: #f0f8ff;}#sk-container-id-1 div.sk-toggleable__content pre {margin: 0.2em;color: black;border-radius: 0.25em;background-color: #f0f8ff;}#sk-container-id-1 input.sk-toggleable__control:checked~div.sk-toggleable__content {max-height: 200px;max-width: 100%;overflow: auto;}#sk-container-id-1 input.sk-toggleable__control:checked~label.sk-toggleable__label-arrow:before {content: \"▾\";}#sk-container-id-1 div.sk-estimator input.sk-toggleable__control:checked~label.sk-toggleable__label {background-color: #d4ebff;}#sk-container-id-1 div.sk-label input.sk-toggleable__control:checked~label.sk-toggleable__label {background-color: #d4ebff;}#sk-container-id-1 input.sk-hidden--visually {border: 0;clip: rect(1px 1px 1px 1px);clip: rect(1px, 1px, 1px, 1px);height: 1px;margin: -1px;overflow: hidden;padding: 0;position: absolute;width: 1px;}#sk-container-id-1 div.sk-estimator {font-family: monospace;background-color: #f0f8ff;border: 1px dotted black;border-radius: 0.25em;box-sizing: border-box;margin-bottom: 0.5em;}#sk-container-id-1 div.sk-estimator:hover {background-color: #d4ebff;}#sk-container-id-1 div.sk-parallel-item::after {content: \"\";width: 100%;border-bottom: 1px solid gray;flex-grow: 1;}#sk-container-id-1 div.sk-label:hover label.sk-toggleable__label {background-color: #d4ebff;}#sk-container-id-1 div.sk-serial::before {content: \"\";position: absolute;border-left: 1px solid gray;box-sizing: border-box;top: 0;bottom: 0;left: 50%;z-index: 0;}#sk-container-id-1 div.sk-serial {display: flex;flex-direction: column;align-items: center;background-color: white;padding-right: 0.2em;padding-left: 0.2em;position: relative;}#sk-container-id-1 div.sk-item {position: relative;z-index: 1;}#sk-container-id-1 div.sk-parallel {display: flex;align-items: stretch;justify-content: center;background-color: white;position: relative;}#sk-container-id-1 div.sk-item::before, #sk-container-id-1 div.sk-parallel-item::before {content: \"\";position: absolute;border-left: 1px solid gray;box-sizing: border-box;top: 0;bottom: 0;left: 50%;z-index: -1;}#sk-container-id-1 div.sk-parallel-item {display: flex;flex-direction: column;z-index: 1;position: relative;background-color: white;}#sk-container-id-1 div.sk-parallel-item:first-child::after {align-self: flex-end;width: 50%;}#sk-container-id-1 div.sk-parallel-item:last-child::after {align-self: flex-start;width: 50%;}#sk-container-id-1 div.sk-parallel-item:only-child::after {width: 0;}#sk-container-id-1 div.sk-dashed-wrapped {border: 1px dashed gray;margin: 0 0.4em 0.5em 0.4em;box-sizing: border-box;padding-bottom: 0.4em;background-color: white;}#sk-container-id-1 div.sk-label label {font-family: monospace;font-weight: bold;display: inline-block;line-height: 1.2em;}#sk-container-id-1 div.sk-label-container {text-align: center;}#sk-container-id-1 div.sk-container {/* jupyter's `normalize.less` sets `[hidden] { display: none; }` but bootstrap.min.css set `[hidden] { display: none !important; }` so we also need the `!important` here to be able to override the default hidden behavior on the sphinx rendered scikit-learn.org. See: https://github.com/scikit-learn/scikit-learn/issues/21755 */display: inline-block !important;position: relative;}#sk-container-id-1 div.sk-text-repr-fallback {display: none;}</style><div id=\"sk-container-id-1\" class=\"sk-top-container\"><div class=\"sk-text-repr-fallback\"><pre>LogisticRegression(max_iter=500, multi_class=&#x27;multinomial&#x27;, solver=&#x27;saga&#x27;)</pre><b>In a Jupyter environment, please rerun this cell to show the HTML representation or trust the notebook. <br />On GitHub, the HTML representation is unable to render, please try loading this page with nbviewer.org.</b></div><div class=\"sk-container\" hidden><div class=\"sk-item\"><div class=\"sk-estimator sk-toggleable\"><input class=\"sk-toggleable__control sk-hidden--visually\" id=\"sk-estimator-id-1\" type=\"checkbox\" checked><label for=\"sk-estimator-id-1\" class=\"sk-toggleable__label sk-toggleable__label-arrow\">LogisticRegression</label><div class=\"sk-toggleable__content\"><pre>LogisticRegression(max_iter=500, multi_class=&#x27;multinomial&#x27;, solver=&#x27;saga&#x27;)</pre></div></div></div></div></div>"
      ],
      "text/plain": [
       "LogisticRegression(max_iter=500, multi_class='multinomial', solver='saga')"
      ]
     },
     "execution_count": 16,
     "metadata": {},
     "output_type": "execute_result"
    }
   ],
   "source": [
    "lor.fit(X_train,y_train)"
   ]
  },
  {
   "cell_type": "code",
   "execution_count": 17,
   "id": "500bbd0a",
   "metadata": {
    "execution": {
     "iopub.execute_input": "2025-06-12T06:56:17.072590Z",
     "iopub.status.busy": "2025-06-12T06:56:17.072293Z",
     "iopub.status.idle": "2025-06-12T06:56:17.093703Z",
     "shell.execute_reply": "2025-06-12T06:56:17.092442Z"
    },
    "papermill": {
     "duration": 0.030713,
     "end_time": "2025-06-12T06:56:17.095545",
     "exception": false,
     "start_time": "2025-06-12T06:56:17.064832",
     "status": "completed"
    },
    "tags": []
   },
   "outputs": [],
   "source": [
    "y_pred=lor.predict(X_test)"
   ]
  },
  {
   "cell_type": "code",
   "execution_count": 18,
   "id": "99ad6371",
   "metadata": {
    "execution": {
     "iopub.execute_input": "2025-06-12T06:56:17.110574Z",
     "iopub.status.busy": "2025-06-12T06:56:17.110254Z",
     "iopub.status.idle": "2025-06-12T06:56:17.125805Z",
     "shell.execute_reply": "2025-06-12T06:56:17.124571Z"
    },
    "papermill": {
     "duration": 0.025457,
     "end_time": "2025-06-12T06:56:17.127625",
     "exception": false,
     "start_time": "2025-06-12T06:56:17.102168",
     "status": "completed"
    },
    "tags": []
   },
   "outputs": [
    {
     "name": "stdout",
     "output_type": "stream",
     "text": [
      "              precision    recall  f1-score   support\n",
      "\n",
      "        farm       0.79      0.83      0.81       161\n",
      "      forest       0.98      0.99      0.99      1231\n",
      "       grass       0.76      0.65      0.70        43\n",
      "  impervious       0.85      0.79      0.82       141\n",
      "     orchard       0.00      0.00      0.00         6\n",
      "       water       0.76      0.72      0.74        18\n",
      "\n",
      "    accuracy                           0.94      1600\n",
      "   macro avg       0.69      0.66      0.68      1600\n",
      "weighted avg       0.94      0.94      0.94      1600\n",
      "\n"
     ]
    }
   ],
   "source": [
    "print(classification_report(y_test,y_pred,labels=list(range(len(le.classes_))),target_names=le.classes_))"
   ]
  },
  {
   "cell_type": "code",
   "execution_count": 19,
   "id": "a9eb302c",
   "metadata": {
    "execution": {
     "iopub.execute_input": "2025-06-12T06:56:17.143618Z",
     "iopub.status.busy": "2025-06-12T06:56:17.143312Z",
     "iopub.status.idle": "2025-06-12T06:56:17.175061Z",
     "shell.execute_reply": "2025-06-12T06:56:17.174123Z"
    },
    "papermill": {
     "duration": 0.041432,
     "end_time": "2025-06-12T06:56:17.176745",
     "exception": false,
     "start_time": "2025-06-12T06:56:17.135313",
     "status": "completed"
    },
    "tags": []
   },
   "outputs": [],
   "source": [
    "test_data=pd.read_csv('/kaggle/input/summer-analytics-mid-hackathon/hacktest.csv')"
   ]
  },
  {
   "cell_type": "code",
   "execution_count": 20,
   "id": "ae45ff0a",
   "metadata": {
    "execution": {
     "iopub.execute_input": "2025-06-12T06:56:17.191808Z",
     "iopub.status.busy": "2025-06-12T06:56:17.191454Z",
     "iopub.status.idle": "2025-06-12T06:56:17.196969Z",
     "shell.execute_reply": "2025-06-12T06:56:17.196266Z"
    },
    "papermill": {
     "duration": 0.015075,
     "end_time": "2025-06-12T06:56:17.198488",
     "exception": false,
     "start_time": "2025-06-12T06:56:17.183413",
     "status": "completed"
    },
    "tags": []
   },
   "outputs": [
    {
     "data": {
      "text/plain": [
       "(2845, 29)"
      ]
     },
     "execution_count": 20,
     "metadata": {},
     "output_type": "execute_result"
    }
   ],
   "source": [
    "test_data.shape"
   ]
  },
  {
   "cell_type": "code",
   "execution_count": 21,
   "id": "e3dbe03f",
   "metadata": {
    "execution": {
     "iopub.execute_input": "2025-06-12T06:56:17.213479Z",
     "iopub.status.busy": "2025-06-12T06:56:17.213187Z",
     "iopub.status.idle": "2025-06-12T06:56:17.241724Z",
     "shell.execute_reply": "2025-06-12T06:56:17.240582Z"
    },
    "papermill": {
     "duration": 0.038446,
     "end_time": "2025-06-12T06:56:17.243790",
     "exception": false,
     "start_time": "2025-06-12T06:56:17.205344",
     "status": "completed"
    },
    "tags": []
   },
   "outputs": [
    {
     "data": {
      "text/html": [
       "<div>\n",
       "<style scoped>\n",
       "    .dataframe tbody tr th:only-of-type {\n",
       "        vertical-align: middle;\n",
       "    }\n",
       "\n",
       "    .dataframe tbody tr th {\n",
       "        vertical-align: top;\n",
       "    }\n",
       "\n",
       "    .dataframe thead th {\n",
       "        text-align: right;\n",
       "    }\n",
       "</style>\n",
       "<table border=\"1\" class=\"dataframe\">\n",
       "  <thead>\n",
       "    <tr style=\"text-align: right;\">\n",
       "      <th></th>\n",
       "      <th>Unnamed: 0</th>\n",
       "      <th>ID</th>\n",
       "      <th>20150720_N</th>\n",
       "      <th>20150602_N</th>\n",
       "      <th>20150517_N</th>\n",
       "      <th>20150501_N</th>\n",
       "      <th>20150415_N</th>\n",
       "      <th>20150330_N</th>\n",
       "      <th>20150314_N</th>\n",
       "      <th>20150226_N</th>\n",
       "      <th>...</th>\n",
       "      <th>20140610_N</th>\n",
       "      <th>20140525_N</th>\n",
       "      <th>20140509_N</th>\n",
       "      <th>20140423_N</th>\n",
       "      <th>20140407_N</th>\n",
       "      <th>20140322_N</th>\n",
       "      <th>20140218_N</th>\n",
       "      <th>20140202_N</th>\n",
       "      <th>20140117_N</th>\n",
       "      <th>20140101_N</th>\n",
       "    </tr>\n",
       "  </thead>\n",
       "  <tbody>\n",
       "    <tr>\n",
       "      <th>0</th>\n",
       "      <td>0</td>\n",
       "      <td>1</td>\n",
       "      <td>7466.4200</td>\n",
       "      <td>413.162</td>\n",
       "      <td>5761.000</td>\n",
       "      <td>5625.45</td>\n",
       "      <td>489.4030</td>\n",
       "      <td>3923.84</td>\n",
       "      <td>3097.110</td>\n",
       "      <td>6766.42000</td>\n",
       "      <td>...</td>\n",
       "      <td>801.184</td>\n",
       "      <td>927.115</td>\n",
       "      <td>4704.14</td>\n",
       "      <td>6378.42</td>\n",
       "      <td>340.949</td>\n",
       "      <td>2695.5700</td>\n",
       "      <td>527.268</td>\n",
       "      <td>4736.75</td>\n",
       "      <td>601.843</td>\n",
       "      <td>6639.760</td>\n",
       "    </tr>\n",
       "    <tr>\n",
       "      <th>1</th>\n",
       "      <td>1</td>\n",
       "      <td>2</td>\n",
       "      <td>7235.2600</td>\n",
       "      <td>6037.350</td>\n",
       "      <td>1027.560</td>\n",
       "      <td>6085.14</td>\n",
       "      <td>1618.0500</td>\n",
       "      <td>6668.54</td>\n",
       "      <td>2513.990</td>\n",
       "      <td>1051.69000</td>\n",
       "      <td>...</td>\n",
       "      <td>5533.470</td>\n",
       "      <td>5103.040</td>\n",
       "      <td>5216.12</td>\n",
       "      <td>4885.27</td>\n",
       "      <td>4366.790</td>\n",
       "      <td>1234.1400</td>\n",
       "      <td>3298.110</td>\n",
       "      <td>6942.68</td>\n",
       "      <td>1070.440</td>\n",
       "      <td>842.101</td>\n",
       "    </tr>\n",
       "    <tr>\n",
       "      <th>2</th>\n",
       "      <td>2</td>\n",
       "      <td>3</td>\n",
       "      <td>7425.0800</td>\n",
       "      <td>6969.980</td>\n",
       "      <td>1177.940</td>\n",
       "      <td>7408.93</td>\n",
       "      <td>861.0610</td>\n",
       "      <td>7644.43</td>\n",
       "      <td>814.458</td>\n",
       "      <td>1504.29000</td>\n",
       "      <td>...</td>\n",
       "      <td>1981.390</td>\n",
       "      <td>6204.540</td>\n",
       "      <td>7021.69</td>\n",
       "      <td>5704.41</td>\n",
       "      <td>4897.450</td>\n",
       "      <td>1789.9900</td>\n",
       "      <td>2206.100</td>\n",
       "      <td>6928.93</td>\n",
       "      <td>1036.560</td>\n",
       "      <td>831.441</td>\n",
       "    </tr>\n",
       "    <tr>\n",
       "      <th>3</th>\n",
       "      <td>3</td>\n",
       "      <td>4</td>\n",
       "      <td>7119.1200</td>\n",
       "      <td>1731.620</td>\n",
       "      <td>6311.930</td>\n",
       "      <td>6441.61</td>\n",
       "      <td>465.9790</td>\n",
       "      <td>7128.42</td>\n",
       "      <td>1649.120</td>\n",
       "      <td>6935.22000</td>\n",
       "      <td>...</td>\n",
       "      <td>959.344</td>\n",
       "      <td>5794.150</td>\n",
       "      <td>1045.57</td>\n",
       "      <td>5572.90</td>\n",
       "      <td>586.287</td>\n",
       "      <td>685.9060</td>\n",
       "      <td>1287.000</td>\n",
       "      <td>6734.72</td>\n",
       "      <td>824.584</td>\n",
       "      <td>6883.610</td>\n",
       "    </tr>\n",
       "    <tr>\n",
       "      <th>4</th>\n",
       "      <td>4</td>\n",
       "      <td>5</td>\n",
       "      <td>7519.5500</td>\n",
       "      <td>8130.260</td>\n",
       "      <td>1482.540</td>\n",
       "      <td>7879.53</td>\n",
       "      <td>1001.2100</td>\n",
       "      <td>7937.60</td>\n",
       "      <td>4122.530</td>\n",
       "      <td>1094.51000</td>\n",
       "      <td>...</td>\n",
       "      <td>7636.070</td>\n",
       "      <td>6996.760</td>\n",
       "      <td>7413.43</td>\n",
       "      <td>4596.13</td>\n",
       "      <td>4511.700</td>\n",
       "      <td>1413.5200</td>\n",
       "      <td>3283.940</td>\n",
       "      <td>7937.68</td>\n",
       "      <td>1857.800</td>\n",
       "      <td>1336.920</td>\n",
       "    </tr>\n",
       "    <tr>\n",
       "      <th>...</th>\n",
       "      <td>...</td>\n",
       "      <td>...</td>\n",
       "      <td>...</td>\n",
       "      <td>...</td>\n",
       "      <td>...</td>\n",
       "      <td>...</td>\n",
       "      <td>...</td>\n",
       "      <td>...</td>\n",
       "      <td>...</td>\n",
       "      <td>...</td>\n",
       "      <td>...</td>\n",
       "      <td>...</td>\n",
       "      <td>...</td>\n",
       "      <td>...</td>\n",
       "      <td>...</td>\n",
       "      <td>...</td>\n",
       "      <td>...</td>\n",
       "      <td>...</td>\n",
       "      <td>...</td>\n",
       "      <td>...</td>\n",
       "      <td>...</td>\n",
       "    </tr>\n",
       "    <tr>\n",
       "      <th>2840</th>\n",
       "      <td>2840</td>\n",
       "      <td>2841</td>\n",
       "      <td>-1673.7400</td>\n",
       "      <td>-2514.480</td>\n",
       "      <td>-2451.190</td>\n",
       "      <td>-2738.44</td>\n",
       "      <td>64.4464</td>\n",
       "      <td>-2275.03</td>\n",
       "      <td>-2881.100</td>\n",
       "      <td>-4738.97000</td>\n",
       "      <td>...</td>\n",
       "      <td>-2257.890</td>\n",
       "      <td>-2582.420</td>\n",
       "      <td>-1699.10</td>\n",
       "      <td>-2295.30</td>\n",
       "      <td>306.483</td>\n",
       "      <td>209.4030</td>\n",
       "      <td>221.920</td>\n",
       "      <td>-4885.15</td>\n",
       "      <td>-2630.590</td>\n",
       "      <td>356.233</td>\n",
       "    </tr>\n",
       "    <tr>\n",
       "      <th>2841</th>\n",
       "      <td>2841</td>\n",
       "      <td>2842</td>\n",
       "      <td>-96.8233</td>\n",
       "      <td>-412.727</td>\n",
       "      <td>-1795.400</td>\n",
       "      <td>-2363.82</td>\n",
       "      <td>-2168.1900</td>\n",
       "      <td>-2162.68</td>\n",
       "      <td>-3155.740</td>\n",
       "      <td>-4416.11000</td>\n",
       "      <td>...</td>\n",
       "      <td>-3991.910</td>\n",
       "      <td>-2614.910</td>\n",
       "      <td>-2109.84</td>\n",
       "      <td>-2687.18</td>\n",
       "      <td>-2853.890</td>\n",
       "      <td>71.3402</td>\n",
       "      <td>-86.414</td>\n",
       "      <td>-5109.01</td>\n",
       "      <td>324.637</td>\n",
       "      <td>-4316.580</td>\n",
       "    </tr>\n",
       "    <tr>\n",
       "      <th>2842</th>\n",
       "      <td>2842</td>\n",
       "      <td>2843</td>\n",
       "      <td>-2364.6000</td>\n",
       "      <td>-155.592</td>\n",
       "      <td>-1422.090</td>\n",
       "      <td>-1713.40</td>\n",
       "      <td>465.6220</td>\n",
       "      <td>-2230.40</td>\n",
       "      <td>-3088.730</td>\n",
       "      <td>-5010.32000</td>\n",
       "      <td>...</td>\n",
       "      <td>-2484.500</td>\n",
       "      <td>-1756.080</td>\n",
       "      <td>-3820.43</td>\n",
       "      <td>-1988.23</td>\n",
       "      <td>433.852</td>\n",
       "      <td>291.8000</td>\n",
       "      <td>254.548</td>\n",
       "      <td>-4259.30</td>\n",
       "      <td>412.115</td>\n",
       "      <td>-1170.750</td>\n",
       "    </tr>\n",
       "    <tr>\n",
       "      <th>2843</th>\n",
       "      <td>2843</td>\n",
       "      <td>2844</td>\n",
       "      <td>-3004.6300</td>\n",
       "      <td>-1217.120</td>\n",
       "      <td>180.122</td>\n",
       "      <td>-1113.89</td>\n",
       "      <td>438.4180</td>\n",
       "      <td>-2442.51</td>\n",
       "      <td>-3210.560</td>\n",
       "      <td>-3237.74000</td>\n",
       "      <td>...</td>\n",
       "      <td>-3291.490</td>\n",
       "      <td>-2018.450</td>\n",
       "      <td>-3472.65</td>\n",
       "      <td>-3109.07</td>\n",
       "      <td>511.792</td>\n",
       "      <td>369.0970</td>\n",
       "      <td>276.948</td>\n",
       "      <td>-5574.51</td>\n",
       "      <td>298.739</td>\n",
       "      <td>460.419</td>\n",
       "    </tr>\n",
       "    <tr>\n",
       "      <th>2844</th>\n",
       "      <td>2844</td>\n",
       "      <td>2845</td>\n",
       "      <td>-2975.1000</td>\n",
       "      <td>-1129.790</td>\n",
       "      <td>463.748</td>\n",
       "      <td>-5355.40</td>\n",
       "      <td>193.5110</td>\n",
       "      <td>-2590.16</td>\n",
       "      <td>-3113.520</td>\n",
       "      <td>-2.38883</td>\n",
       "      <td>...</td>\n",
       "      <td>-3058.230</td>\n",
       "      <td>-2276.180</td>\n",
       "      <td>-3335.00</td>\n",
       "      <td>-2929.19</td>\n",
       "      <td>-1007.500</td>\n",
       "      <td>271.0580</td>\n",
       "      <td>307.997</td>\n",
       "      <td>-5453.33</td>\n",
       "      <td>307.495</td>\n",
       "      <td>417.124</td>\n",
       "    </tr>\n",
       "  </tbody>\n",
       "</table>\n",
       "<p>2845 rows × 29 columns</p>\n",
       "</div>"
      ],
      "text/plain": [
       "      Unnamed: 0    ID  20150720_N  20150602_N  20150517_N  20150501_N  \\\n",
       "0              0     1   7466.4200     413.162    5761.000     5625.45   \n",
       "1              1     2   7235.2600    6037.350    1027.560     6085.14   \n",
       "2              2     3   7425.0800    6969.980    1177.940     7408.93   \n",
       "3              3     4   7119.1200    1731.620    6311.930     6441.61   \n",
       "4              4     5   7519.5500    8130.260    1482.540     7879.53   \n",
       "...          ...   ...         ...         ...         ...         ...   \n",
       "2840        2840  2841  -1673.7400   -2514.480   -2451.190    -2738.44   \n",
       "2841        2841  2842    -96.8233    -412.727   -1795.400    -2363.82   \n",
       "2842        2842  2843  -2364.6000    -155.592   -1422.090    -1713.40   \n",
       "2843        2843  2844  -3004.6300   -1217.120     180.122    -1113.89   \n",
       "2844        2844  2845  -2975.1000   -1129.790     463.748    -5355.40   \n",
       "\n",
       "      20150415_N  20150330_N  20150314_N  20150226_N  ...  20140610_N  \\\n",
       "0       489.4030     3923.84    3097.110  6766.42000  ...     801.184   \n",
       "1      1618.0500     6668.54    2513.990  1051.69000  ...    5533.470   \n",
       "2       861.0610     7644.43     814.458  1504.29000  ...    1981.390   \n",
       "3       465.9790     7128.42    1649.120  6935.22000  ...     959.344   \n",
       "4      1001.2100     7937.60    4122.530  1094.51000  ...    7636.070   \n",
       "...          ...         ...         ...         ...  ...         ...   \n",
       "2840     64.4464    -2275.03   -2881.100 -4738.97000  ...   -2257.890   \n",
       "2841  -2168.1900    -2162.68   -3155.740 -4416.11000  ...   -3991.910   \n",
       "2842    465.6220    -2230.40   -3088.730 -5010.32000  ...   -2484.500   \n",
       "2843    438.4180    -2442.51   -3210.560 -3237.74000  ...   -3291.490   \n",
       "2844    193.5110    -2590.16   -3113.520    -2.38883  ...   -3058.230   \n",
       "\n",
       "      20140525_N  20140509_N  20140423_N  20140407_N  20140322_N  20140218_N  \\\n",
       "0        927.115     4704.14     6378.42     340.949   2695.5700     527.268   \n",
       "1       5103.040     5216.12     4885.27    4366.790   1234.1400    3298.110   \n",
       "2       6204.540     7021.69     5704.41    4897.450   1789.9900    2206.100   \n",
       "3       5794.150     1045.57     5572.90     586.287    685.9060    1287.000   \n",
       "4       6996.760     7413.43     4596.13    4511.700   1413.5200    3283.940   \n",
       "...          ...         ...         ...         ...         ...         ...   \n",
       "2840   -2582.420    -1699.10    -2295.30     306.483    209.4030     221.920   \n",
       "2841   -2614.910    -2109.84    -2687.18   -2853.890     71.3402     -86.414   \n",
       "2842   -1756.080    -3820.43    -1988.23     433.852    291.8000     254.548   \n",
       "2843   -2018.450    -3472.65    -3109.07     511.792    369.0970     276.948   \n",
       "2844   -2276.180    -3335.00    -2929.19   -1007.500    271.0580     307.997   \n",
       "\n",
       "      20140202_N  20140117_N  20140101_N  \n",
       "0        4736.75     601.843    6639.760  \n",
       "1        6942.68    1070.440     842.101  \n",
       "2        6928.93    1036.560     831.441  \n",
       "3        6734.72     824.584    6883.610  \n",
       "4        7937.68    1857.800    1336.920  \n",
       "...          ...         ...         ...  \n",
       "2840    -4885.15   -2630.590     356.233  \n",
       "2841    -5109.01     324.637   -4316.580  \n",
       "2842    -4259.30     412.115   -1170.750  \n",
       "2843    -5574.51     298.739     460.419  \n",
       "2844    -5453.33     307.495     417.124  \n",
       "\n",
       "[2845 rows x 29 columns]"
      ]
     },
     "execution_count": 21,
     "metadata": {},
     "output_type": "execute_result"
    }
   ],
   "source": [
    "test_data"
   ]
  },
  {
   "cell_type": "code",
   "execution_count": 22,
   "id": "88d49f1c",
   "metadata": {
    "execution": {
     "iopub.execute_input": "2025-06-12T06:56:17.259557Z",
     "iopub.status.busy": "2025-06-12T06:56:17.259245Z",
     "iopub.status.idle": "2025-06-12T06:56:17.265948Z",
     "shell.execute_reply": "2025-06-12T06:56:17.265010Z"
    },
    "papermill": {
     "duration": 0.016507,
     "end_time": "2025-06-12T06:56:17.267618",
     "exception": false,
     "start_time": "2025-06-12T06:56:17.251111",
     "status": "completed"
    },
    "tags": []
   },
   "outputs": [],
   "source": [
    "ID=test_data['ID']\n",
    "test_data.drop(columns=['ID'],inplace=True)\n"
   ]
  },
  {
   "cell_type": "code",
   "execution_count": 23,
   "id": "8241fd37",
   "metadata": {
    "execution": {
     "iopub.execute_input": "2025-06-12T06:56:17.283395Z",
     "iopub.status.busy": "2025-06-12T06:56:17.282986Z",
     "iopub.status.idle": "2025-06-12T06:56:17.289553Z",
     "shell.execute_reply": "2025-06-12T06:56:17.288600Z"
    },
    "papermill": {
     "duration": 0.016358,
     "end_time": "2025-06-12T06:56:17.291185",
     "exception": false,
     "start_time": "2025-06-12T06:56:17.274827",
     "status": "completed"
    },
    "tags": []
   },
   "outputs": [
    {
     "data": {
      "text/plain": [
       "(2845, 28)"
      ]
     },
     "execution_count": 23,
     "metadata": {},
     "output_type": "execute_result"
    }
   ],
   "source": [
    "test_data.shape"
   ]
  },
  {
   "cell_type": "code",
   "execution_count": 24,
   "id": "e317e2db",
   "metadata": {
    "execution": {
     "iopub.execute_input": "2025-06-12T06:56:17.307609Z",
     "iopub.status.busy": "2025-06-12T06:56:17.307284Z",
     "iopub.status.idle": "2025-06-12T06:56:17.327841Z",
     "shell.execute_reply": "2025-06-12T06:56:17.326593Z"
    },
    "papermill": {
     "duration": 0.03119,
     "end_time": "2025-06-12T06:56:17.329586",
     "exception": false,
     "start_time": "2025-06-12T06:56:17.298396",
     "status": "completed"
    },
    "tags": []
   },
   "outputs": [
    {
     "data": {
      "text/html": [
       "<div>\n",
       "<style scoped>\n",
       "    .dataframe tbody tr th:only-of-type {\n",
       "        vertical-align: middle;\n",
       "    }\n",
       "\n",
       "    .dataframe tbody tr th {\n",
       "        vertical-align: top;\n",
       "    }\n",
       "\n",
       "    .dataframe thead th {\n",
       "        text-align: right;\n",
       "    }\n",
       "</style>\n",
       "<table border=\"1\" class=\"dataframe\">\n",
       "  <thead>\n",
       "    <tr style=\"text-align: right;\">\n",
       "      <th></th>\n",
       "      <th>Unnamed: 0</th>\n",
       "      <th>20150720_N</th>\n",
       "      <th>20150602_N</th>\n",
       "      <th>20150517_N</th>\n",
       "      <th>20150501_N</th>\n",
       "      <th>20150415_N</th>\n",
       "      <th>20150330_N</th>\n",
       "      <th>20150314_N</th>\n",
       "      <th>20150226_N</th>\n",
       "      <th>20150210_N</th>\n",
       "      <th>...</th>\n",
       "      <th>20140610_N</th>\n",
       "      <th>20140525_N</th>\n",
       "      <th>20140509_N</th>\n",
       "      <th>20140423_N</th>\n",
       "      <th>20140407_N</th>\n",
       "      <th>20140322_N</th>\n",
       "      <th>20140218_N</th>\n",
       "      <th>20140202_N</th>\n",
       "      <th>20140117_N</th>\n",
       "      <th>20140101_N</th>\n",
       "    </tr>\n",
       "  </thead>\n",
       "  <tbody>\n",
       "    <tr>\n",
       "      <th>0</th>\n",
       "      <td>0</td>\n",
       "      <td>7466.42</td>\n",
       "      <td>413.162</td>\n",
       "      <td>5761.0</td>\n",
       "      <td>5625.45</td>\n",
       "      <td>489.403</td>\n",
       "      <td>3923.84</td>\n",
       "      <td>3097.11</td>\n",
       "      <td>6766.42</td>\n",
       "      <td>2829.13</td>\n",
       "      <td>...</td>\n",
       "      <td>801.184</td>\n",
       "      <td>927.115</td>\n",
       "      <td>4704.14</td>\n",
       "      <td>6378.42</td>\n",
       "      <td>340.949</td>\n",
       "      <td>2695.57</td>\n",
       "      <td>527.268</td>\n",
       "      <td>4736.75</td>\n",
       "      <td>601.843</td>\n",
       "      <td>6639.76</td>\n",
       "    </tr>\n",
       "  </tbody>\n",
       "</table>\n",
       "<p>1 rows × 28 columns</p>\n",
       "</div>"
      ],
      "text/plain": [
       "   Unnamed: 0  20150720_N  20150602_N  20150517_N  20150501_N  20150415_N  \\\n",
       "0           0     7466.42     413.162      5761.0     5625.45     489.403   \n",
       "\n",
       "   20150330_N  20150314_N  20150226_N  20150210_N  ...  20140610_N  \\\n",
       "0     3923.84     3097.11     6766.42     2829.13  ...     801.184   \n",
       "\n",
       "   20140525_N  20140509_N  20140423_N  20140407_N  20140322_N  20140218_N  \\\n",
       "0     927.115     4704.14     6378.42     340.949     2695.57     527.268   \n",
       "\n",
       "   20140202_N  20140117_N  20140101_N  \n",
       "0     4736.75     601.843     6639.76  \n",
       "\n",
       "[1 rows x 28 columns]"
      ]
     },
     "execution_count": 24,
     "metadata": {},
     "output_type": "execute_result"
    }
   ],
   "source": [
    "test_data.head(1)"
   ]
  },
  {
   "cell_type": "code",
   "execution_count": 25,
   "id": "3a9e0107",
   "metadata": {
    "execution": {
     "iopub.execute_input": "2025-06-12T06:56:17.346612Z",
     "iopub.status.busy": "2025-06-12T06:56:17.346290Z",
     "iopub.status.idle": "2025-06-12T06:56:17.354921Z",
     "shell.execute_reply": "2025-06-12T06:56:17.353980Z"
    },
    "papermill": {
     "duration": 0.019724,
     "end_time": "2025-06-12T06:56:17.357223",
     "exception": false,
     "start_time": "2025-06-12T06:56:17.337499",
     "status": "completed"
    },
    "tags": []
   },
   "outputs": [],
   "source": [
    "y_test=lor.predict(test_data)"
   ]
  },
  {
   "cell_type": "code",
   "execution_count": 26,
   "id": "da3e4f95",
   "metadata": {
    "execution": {
     "iopub.execute_input": "2025-06-12T06:56:17.375824Z",
     "iopub.status.busy": "2025-06-12T06:56:17.375479Z",
     "iopub.status.idle": "2025-06-12T06:56:17.384459Z",
     "shell.execute_reply": "2025-06-12T06:56:17.383174Z"
    },
    "papermill": {
     "duration": 0.020163,
     "end_time": "2025-06-12T06:56:17.386950",
     "exception": false,
     "start_time": "2025-06-12T06:56:17.366787",
     "status": "completed"
    },
    "tags": []
   },
   "outputs": [
    {
     "data": {
      "text/plain": [
       "array([1, 1, 1, ..., 3, 3, 3])"
      ]
     },
     "execution_count": 26,
     "metadata": {},
     "output_type": "execute_result"
    }
   ],
   "source": [
    "y_test"
   ]
  },
  {
   "cell_type": "code",
   "execution_count": 27,
   "id": "06d705ab",
   "metadata": {
    "execution": {
     "iopub.execute_input": "2025-06-12T06:56:17.405544Z",
     "iopub.status.busy": "2025-06-12T06:56:17.404964Z",
     "iopub.status.idle": "2025-06-12T06:56:17.413044Z",
     "shell.execute_reply": "2025-06-12T06:56:17.412155Z"
    },
    "papermill": {
     "duration": 0.019898,
     "end_time": "2025-06-12T06:56:17.415129",
     "exception": false,
     "start_time": "2025-06-12T06:56:17.395231",
     "status": "completed"
    },
    "tags": []
   },
   "outputs": [
    {
     "data": {
      "text/plain": [
       "array(['forest', 'forest', 'forest', ..., 'impervious', 'impervious',\n",
       "       'impervious'], dtype=object)"
      ]
     },
     "execution_count": 27,
     "metadata": {},
     "output_type": "execute_result"
    }
   ],
   "source": [
    "y_decoded=le.inverse_transform(y_test)\n",
    "y_decoded"
   ]
  },
  {
   "cell_type": "code",
   "execution_count": 28,
   "id": "ef0edce2",
   "metadata": {
    "execution": {
     "iopub.execute_input": "2025-06-12T06:56:17.432339Z",
     "iopub.status.busy": "2025-06-12T06:56:17.431970Z",
     "iopub.status.idle": "2025-06-12T06:56:17.444715Z",
     "shell.execute_reply": "2025-06-12T06:56:17.442818Z"
    },
    "papermill": {
     "duration": 0.024467,
     "end_time": "2025-06-12T06:56:17.447131",
     "exception": false,
     "start_time": "2025-06-12T06:56:17.422664",
     "status": "completed"
    },
    "tags": []
   },
   "outputs": [
    {
     "data": {
      "text/html": [
       "<div>\n",
       "<style scoped>\n",
       "    .dataframe tbody tr th:only-of-type {\n",
       "        vertical-align: middle;\n",
       "    }\n",
       "\n",
       "    .dataframe tbody tr th {\n",
       "        vertical-align: top;\n",
       "    }\n",
       "\n",
       "    .dataframe thead th {\n",
       "        text-align: right;\n",
       "    }\n",
       "</style>\n",
       "<table border=\"1\" class=\"dataframe\">\n",
       "  <thead>\n",
       "    <tr style=\"text-align: right;\">\n",
       "      <th></th>\n",
       "      <th>ID</th>\n",
       "      <th>classes</th>\n",
       "    </tr>\n",
       "  </thead>\n",
       "  <tbody>\n",
       "    <tr>\n",
       "      <th>0</th>\n",
       "      <td>1</td>\n",
       "      <td>forest</td>\n",
       "    </tr>\n",
       "    <tr>\n",
       "      <th>1</th>\n",
       "      <td>2</td>\n",
       "      <td>forest</td>\n",
       "    </tr>\n",
       "    <tr>\n",
       "      <th>2</th>\n",
       "      <td>3</td>\n",
       "      <td>forest</td>\n",
       "    </tr>\n",
       "    <tr>\n",
       "      <th>3</th>\n",
       "      <td>4</td>\n",
       "      <td>forest</td>\n",
       "    </tr>\n",
       "    <tr>\n",
       "      <th>4</th>\n",
       "      <td>5</td>\n",
       "      <td>forest</td>\n",
       "    </tr>\n",
       "    <tr>\n",
       "      <th>...</th>\n",
       "      <td>...</td>\n",
       "      <td>...</td>\n",
       "    </tr>\n",
       "    <tr>\n",
       "      <th>2840</th>\n",
       "      <td>2841</td>\n",
       "      <td>impervious</td>\n",
       "    </tr>\n",
       "    <tr>\n",
       "      <th>2841</th>\n",
       "      <td>2842</td>\n",
       "      <td>impervious</td>\n",
       "    </tr>\n",
       "    <tr>\n",
       "      <th>2842</th>\n",
       "      <td>2843</td>\n",
       "      <td>impervious</td>\n",
       "    </tr>\n",
       "    <tr>\n",
       "      <th>2843</th>\n",
       "      <td>2844</td>\n",
       "      <td>impervious</td>\n",
       "    </tr>\n",
       "    <tr>\n",
       "      <th>2844</th>\n",
       "      <td>2845</td>\n",
       "      <td>impervious</td>\n",
       "    </tr>\n",
       "  </tbody>\n",
       "</table>\n",
       "<p>2845 rows × 2 columns</p>\n",
       "</div>"
      ],
      "text/plain": [
       "        ID     classes\n",
       "0        1      forest\n",
       "1        2      forest\n",
       "2        3      forest\n",
       "3        4      forest\n",
       "4        5      forest\n",
       "...    ...         ...\n",
       "2840  2841  impervious\n",
       "2841  2842  impervious\n",
       "2842  2843  impervious\n",
       "2843  2844  impervious\n",
       "2844  2845  impervious\n",
       "\n",
       "[2845 rows x 2 columns]"
      ]
     },
     "execution_count": 28,
     "metadata": {},
     "output_type": "execute_result"
    }
   ],
   "source": [
    "result=pd.DataFrame({'ID':ID,'classes':y_decoded})\n",
    "result"
   ]
  },
  {
   "cell_type": "code",
   "execution_count": 29,
   "id": "6e4d9d0d",
   "metadata": {
    "execution": {
     "iopub.execute_input": "2025-06-12T06:56:17.465280Z",
     "iopub.status.busy": "2025-06-12T06:56:17.464933Z",
     "iopub.status.idle": "2025-06-12T06:56:17.474625Z",
     "shell.execute_reply": "2025-06-12T06:56:17.473569Z"
    },
    "papermill": {
     "duration": 0.019976,
     "end_time": "2025-06-12T06:56:17.476181",
     "exception": false,
     "start_time": "2025-06-12T06:56:17.456205",
     "status": "completed"
    },
    "tags": []
   },
   "outputs": [
    {
     "data": {
      "text/html": [
       "<div>\n",
       "<style scoped>\n",
       "    .dataframe tbody tr th:only-of-type {\n",
       "        vertical-align: middle;\n",
       "    }\n",
       "\n",
       "    .dataframe tbody tr th {\n",
       "        vertical-align: top;\n",
       "    }\n",
       "\n",
       "    .dataframe thead th {\n",
       "        text-align: right;\n",
       "    }\n",
       "</style>\n",
       "<table border=\"1\" class=\"dataframe\">\n",
       "  <thead>\n",
       "    <tr style=\"text-align: right;\">\n",
       "      <th></th>\n",
       "      <th>ID</th>\n",
       "      <th>classes</th>\n",
       "    </tr>\n",
       "  </thead>\n",
       "  <tbody>\n",
       "    <tr>\n",
       "      <th>1242</th>\n",
       "      <td>1243</td>\n",
       "      <td>forest</td>\n",
       "    </tr>\n",
       "    <tr>\n",
       "      <th>284</th>\n",
       "      <td>285</td>\n",
       "      <td>forest</td>\n",
       "    </tr>\n",
       "    <tr>\n",
       "      <th>1113</th>\n",
       "      <td>1114</td>\n",
       "      <td>forest</td>\n",
       "    </tr>\n",
       "    <tr>\n",
       "      <th>1606</th>\n",
       "      <td>1607</td>\n",
       "      <td>forest</td>\n",
       "    </tr>\n",
       "    <tr>\n",
       "      <th>2646</th>\n",
       "      <td>2647</td>\n",
       "      <td>forest</td>\n",
       "    </tr>\n",
       "    <tr>\n",
       "      <th>630</th>\n",
       "      <td>631</td>\n",
       "      <td>water</td>\n",
       "    </tr>\n",
       "    <tr>\n",
       "      <th>759</th>\n",
       "      <td>760</td>\n",
       "      <td>forest</td>\n",
       "    </tr>\n",
       "    <tr>\n",
       "      <th>587</th>\n",
       "      <td>588</td>\n",
       "      <td>water</td>\n",
       "    </tr>\n",
       "    <tr>\n",
       "      <th>2731</th>\n",
       "      <td>2732</td>\n",
       "      <td>forest</td>\n",
       "    </tr>\n",
       "    <tr>\n",
       "      <th>2822</th>\n",
       "      <td>2823</td>\n",
       "      <td>forest</td>\n",
       "    </tr>\n",
       "    <tr>\n",
       "      <th>2519</th>\n",
       "      <td>2520</td>\n",
       "      <td>forest</td>\n",
       "    </tr>\n",
       "    <tr>\n",
       "      <th>1185</th>\n",
       "      <td>1186</td>\n",
       "      <td>forest</td>\n",
       "    </tr>\n",
       "    <tr>\n",
       "      <th>1871</th>\n",
       "      <td>1872</td>\n",
       "      <td>forest</td>\n",
       "    </tr>\n",
       "    <tr>\n",
       "      <th>1982</th>\n",
       "      <td>1983</td>\n",
       "      <td>forest</td>\n",
       "    </tr>\n",
       "    <tr>\n",
       "      <th>485</th>\n",
       "      <td>486</td>\n",
       "      <td>forest</td>\n",
       "    </tr>\n",
       "  </tbody>\n",
       "</table>\n",
       "</div>"
      ],
      "text/plain": [
       "        ID classes\n",
       "1242  1243  forest\n",
       "284    285  forest\n",
       "1113  1114  forest\n",
       "1606  1607  forest\n",
       "2646  2647  forest\n",
       "630    631   water\n",
       "759    760  forest\n",
       "587    588   water\n",
       "2731  2732  forest\n",
       "2822  2823  forest\n",
       "2519  2520  forest\n",
       "1185  1186  forest\n",
       "1871  1872  forest\n",
       "1982  1983  forest\n",
       "485    486  forest"
      ]
     },
     "execution_count": 29,
     "metadata": {},
     "output_type": "execute_result"
    }
   ],
   "source": [
    "result.sample(15)"
   ]
  },
  {
   "cell_type": "code",
   "execution_count": 30,
   "id": "30c834e3",
   "metadata": {
    "execution": {
     "iopub.execute_input": "2025-06-12T06:56:17.493798Z",
     "iopub.status.busy": "2025-06-12T06:56:17.493405Z",
     "iopub.status.idle": "2025-06-12T06:56:17.508219Z",
     "shell.execute_reply": "2025-06-12T06:56:17.506953Z"
    },
    "papermill": {
     "duration": 0.025261,
     "end_time": "2025-06-12T06:56:17.509920",
     "exception": false,
     "start_time": "2025-06-12T06:56:17.484659",
     "status": "completed"
    },
    "tags": []
   },
   "outputs": [
    {
     "data": {
      "text/plain": [
       "classes\n",
       "forest        2566\n",
       "water          242\n",
       "impervious      27\n",
       "farm             6\n",
       "orchard          2\n",
       "grass            2\n",
       "Name: count, dtype: int64"
      ]
     },
     "execution_count": 30,
     "metadata": {},
     "output_type": "execute_result"
    }
   ],
   "source": [
    "result['classes'].value_counts()"
   ]
  },
  {
   "cell_type": "code",
   "execution_count": 31,
   "id": "805afc59",
   "metadata": {
    "execution": {
     "iopub.execute_input": "2025-06-12T06:56:17.528148Z",
     "iopub.status.busy": "2025-06-12T06:56:17.527762Z",
     "iopub.status.idle": "2025-06-12T06:56:17.541650Z",
     "shell.execute_reply": "2025-06-12T06:56:17.540349Z"
    },
    "papermill": {
     "duration": 0.025179,
     "end_time": "2025-06-12T06:56:17.543881",
     "exception": false,
     "start_time": "2025-06-12T06:56:17.518702",
     "status": "completed"
    },
    "tags": []
   },
   "outputs": [],
   "source": [
    "result.to_csv('firsthackathon.csv',index=False)"
   ]
  },
  {
   "cell_type": "code",
   "execution_count": null,
   "id": "e82aad29",
   "metadata": {
    "papermill": {
     "duration": 0.008148,
     "end_time": "2025-06-12T06:56:17.562249",
     "exception": false,
     "start_time": "2025-06-12T06:56:17.554101",
     "status": "completed"
    },
    "tags": []
   },
   "outputs": [],
   "source": []
  }
 ],
 "metadata": {
  "kaggle": {
   "accelerator": "none",
   "dataSources": [
    {
     "databundleVersionId": 12585144,
     "sourceId": 104491,
     "sourceType": "competition"
    }
   ],
   "dockerImageVersionId": 31040,
   "isGpuEnabled": false,
   "isInternetEnabled": false,
   "language": "python",
   "sourceType": "notebook"
  },
  "kernelspec": {
   "display_name": "Python 3",
   "language": "python",
   "name": "python3"
  },
  "language_info": {
   "codemirror_mode": {
    "name": "ipython",
    "version": 3
   },
   "file_extension": ".py",
   "mimetype": "text/x-python",
   "name": "python",
   "nbconvert_exporter": "python",
   "pygments_lexer": "ipython3",
   "version": "3.11.11"
  },
  "papermill": {
   "default_parameters": {},
   "duration": 13.775918,
   "end_time": "2025-06-12T06:56:18.292712",
   "environment_variables": {},
   "exception": null,
   "input_path": "__notebook__.ipynb",
   "output_path": "__notebook__.ipynb",
   "parameters": {},
   "start_time": "2025-06-12T06:56:04.516794",
   "version": "2.6.0"
  }
 },
 "nbformat": 4,
 "nbformat_minor": 5
}
